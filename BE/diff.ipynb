{
 "cells": [
  {
   "cell_type": "code",
   "execution_count": 1,
   "metadata": {},
   "outputs": [],
   "source": [
    "from matplotlib import pyplot as plt\n",
    "import matplotlib.patches as mpatches\n",
    "import math\n",
    "get_ipython().run_line_magic('matplotlib', 'inline')\n",
    "import pandas as pd\n",
    "import seaborn as sns\n",
    "import json\n",
    "from pprint import pprint\n",
    "import os\n",
    "import pickle\n",
    "import sys\n",
    "sys.path.append(\"/booleanfs2/sahoo/Hegemon/\")\n",
    "import StepMiner as smn\n",
    "import HegemonUtil as hu"
   ]
  },
  {
   "cell_type": "code",
   "execution_count": 6,
   "metadata": {},
   "outputs": [
    {
     "name": "stdout",
     "output_type": "stream",
     "text": [
      "3 3\n"
     ]
    }
   ],
   "source": [
    "db = hu.Database(\"/Users/dtv004/public_html/Hegemon/explore.conf\")\n",
    "dbid = \"BE1\"\n",
    "h = hu.Hegemon(db.getDataset(dbid))\n",
    "h.init()\n",
    "h.initPlatform()\n",
    "h.initSurv()\n",
    "id1 = \"SNORD140\"\n",
    "id2 = \"TBC1D3P2\"\n",
    "expr1 = h.getExprData(id1)\n",
    "expr2 = h.getExprData(id2)\n",
    "atype = h.getSurvName(\"c protocol\")\n",
    "ahash = {'CTL':0, 'SPT6':1}\n",
    "aval = [ahash[i] if i in ahash else None for i in atype]\n",
    "order = [i for i in h.aRange() if expr1[i] != \"\" and expr2[i] != \"\" and aval[i] is not None]\n",
    "ctl = [i for i in order if aval[i] == 0]\n",
    "spt6 = [i for i in order if aval[i] == 1]\n",
    "print(len(ctl), len(spt6))\n",
    "h.saveDiff('sen-diff.txt', ctl, spt6)"
   ]
  }
 ],
 "metadata": {
  "kernelspec": {
   "display_name": "Python 3",
   "language": "python",
   "name": "python3"
  },
  "language_info": {
   "codemirror_mode": {
    "name": "ipython",
    "version": 3
   },
   "file_extension": ".py",
   "mimetype": "text/x-python",
   "name": "python",
   "nbconvert_exporter": "python",
   "pygments_lexer": "ipython3",
   "version": "3.6.9"
  }
 },
 "nbformat": 4,
 "nbformat_minor": 2
}
